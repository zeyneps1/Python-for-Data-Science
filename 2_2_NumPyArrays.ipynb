{
 "cells": [
  {
   "cell_type": "markdown",
   "id": "e9252293-3b0d-4959-84a5-7bd44bd95d41",
   "metadata": {},
   "source": [
    "### ndim, shape, size, dtype, itemsize, nbytes"
   ]
  },
  {
   "cell_type": "code",
   "execution_count": 1,
   "id": "5e43f660-f4ca-4384-8f05-2371e1ae9965",
   "metadata": {},
   "outputs": [
    {
     "name": "stdout",
     "output_type": "stream",
     "text": [
      "x3 ndim:  3\n",
      "x3 shape: (3, 4, 5)\n",
      "x3 size:  60\n",
      "dtype: int64\n",
      "itemsize: 8 bytes\n",
      "nbytes: 480 bytes\n"
     ]
    }
   ],
   "source": [
    "import numpy as np\n",
    "np.random.seed(0)  # seed for reproducibility\n",
    "\n",
    "x1 = np.random.randint(10, size=6)  # One-dimensional array\n",
    "x2 = np.random.randint(10, size=(3, 4))  # Two-dimensional array\n",
    "x3 = np.random.randint(10, size=(3, 4, 5))  # Three-dimensional array\n",
    "\n",
    "print(\"x3 ndim: \", x3.ndim) # number of dimensions\n",
    "print(\"x3 shape:\", x3.shape) # size of each dimension\n",
    "print(\"x3 size: \", x3.size)\n",
    "print(\"dtype:\", x3.dtype) # data type\n",
    "print(\"itemsize:\", x3.itemsize, \"bytes\")\n",
    "print(\"nbytes:\", x3.nbytes, \"bytes\") # total size : itemsize * size"
   ]
  },
  {
   "cell_type": "markdown",
   "id": "273579b6-9594-4c01-950e-cae3ce874cf5",
   "metadata": {},
   "source": [
    "Unlike Python lists, NumPy arrays have a fixed type. If you attempt to insert a floating-point value to an integer array, the value will be silently truncated."
   ]
  },
  {
   "cell_type": "markdown",
   "id": "eb3ad8c0-b8eb-4ae5-85c4-4407a4467ec8",
   "metadata": {},
   "source": [
    "### arange"
   ]
  },
  {
   "cell_type": "code",
   "execution_count": 2,
   "id": "3adcce4f-62c6-416f-ba2a-6d93613eae4c",
   "metadata": {},
   "outputs": [
    {
     "data": {
      "text/plain": [
       "array([9, 8, 7, 6, 5, 4, 3, 2, 1, 0])"
      ]
     },
     "execution_count": 2,
     "metadata": {},
     "output_type": "execute_result"
    }
   ],
   "source": [
    "np.arange(10)[::-1]"
   ]
  },
  {
   "cell_type": "code",
   "execution_count": 3,
   "id": "fef62fba-dc02-4255-94cf-ee07c54d1dac",
   "metadata": {},
   "outputs": [
    {
     "data": {
      "text/plain": [
       "array([5, 3, 1])"
      ]
     },
     "execution_count": 3,
     "metadata": {},
     "output_type": "execute_result"
    }
   ],
   "source": [
    "np.arange(10)[5::-2]"
   ]
  },
  {
   "cell_type": "code",
   "execution_count": 4,
   "id": "2b3278cc-545b-4fef-956a-aa838c8303e4",
   "metadata": {},
   "outputs": [
    {
     "data": {
      "text/plain": [
       "array([[3, 5, 2, 4],\n",
       "       [7, 6, 8, 8],\n",
       "       [1, 6, 7, 7]])"
      ]
     },
     "execution_count": 4,
     "metadata": {},
     "output_type": "execute_result"
    }
   ],
   "source": [
    "x2"
   ]
  },
  {
   "cell_type": "code",
   "execution_count": 5,
   "id": "fbd8dc53-3ea6-4a7f-96a4-2060d3e31931",
   "metadata": {},
   "outputs": [
    {
     "data": {
      "text/plain": [
       "array([[3, 5, 2],\n",
       "       [7, 6, 8]])"
      ]
     },
     "execution_count": 5,
     "metadata": {},
     "output_type": "execute_result"
    }
   ],
   "source": [
    "x2[:2, :3]  # two rows, three columns"
   ]
  },
  {
   "cell_type": "code",
   "execution_count": 6,
   "id": "9b5a81ac-39da-41ae-a001-e52802d5a19f",
   "metadata": {},
   "outputs": [
    {
     "data": {
      "text/plain": [
       "array([[3, 2],\n",
       "       [7, 8],\n",
       "       [1, 7]])"
      ]
     },
     "execution_count": 6,
     "metadata": {},
     "output_type": "execute_result"
    }
   ],
   "source": [
    "x2[:3, ::2]  # all rows, every other column"
   ]
  },
  {
   "cell_type": "code",
   "execution_count": 7,
   "id": "dc2adcde-e0b4-4e66-8bd0-1bc23b14906e",
   "metadata": {},
   "outputs": [
    {
     "data": {
      "text/plain": [
       "array([[7, 7, 6, 1],\n",
       "       [8, 8, 6, 7],\n",
       "       [4, 2, 5, 3]])"
      ]
     },
     "execution_count": 7,
     "metadata": {},
     "output_type": "execute_result"
    }
   ],
   "source": [
    "x2[::-1, ::-1]"
   ]
  },
  {
   "cell_type": "code",
   "execution_count": 8,
   "id": "e00c305a-3436-479b-8ac1-4ff14fd9f6a7",
   "metadata": {},
   "outputs": [],
   "source": [
    "#x2[:, 0] # first col\n",
    "#x2[0, :] # first row or # x2[0]"
   ]
  },
  {
   "cell_type": "code",
   "execution_count": 9,
   "id": "6b4d1010-dca7-4903-8fb4-d2dc349bb1d9",
   "metadata": {},
   "outputs": [
    {
     "name": "stdout",
     "output_type": "stream",
     "text": [
      "[[3 5 2 4]\n",
      " [7 6 8 8]\n",
      " [1 6 7 7]]\n",
      "[[99  5  2  4]\n",
      " [ 7  6  8  8]\n",
      " [ 1  6  7  7]]\n"
     ]
    }
   ],
   "source": [
    "# Array slices return views rather than copies of the array data.\n",
    "print(x2)\n",
    "\n",
    "x2_sub = x2[:2, :2]\n",
    "x2_sub[0, 0] = 99\n",
    "\n",
    "print(x2)"
   ]
  },
  {
   "cell_type": "markdown",
   "id": "acff4c7f-2031-48ee-bf1b-19d23b1866c4",
   "metadata": {},
   "source": [
    "### copy, reshape, newaxis\n",
    "### concatenate\n",
    "### np.vstack (vertical stack) and np.hstack (horizontal stack)\n",
    "### np.dstack will stack arrays along the third axis"
   ]
  },
  {
   "cell_type": "code",
   "execution_count": 10,
   "id": "3df0db7b-4318-4c84-ae5f-4dcafb305fa3",
   "metadata": {},
   "outputs": [],
   "source": [
    "# or we can use\n",
    "x2_sub_copy = x2[:2, :2].copy()"
   ]
  },
  {
   "cell_type": "code",
   "execution_count": 11,
   "id": "a43aeb8a-1f08-4c10-977b-c97559e44750",
   "metadata": {},
   "outputs": [
    {
     "data": {
      "text/plain": [
       "array([[1, 2, 3],\n",
       "       [4, 5, 6],\n",
       "       [7, 8, 9]])"
      ]
     },
     "execution_count": 11,
     "metadata": {},
     "output_type": "execute_result"
    }
   ],
   "source": [
    "np.arange(1, 10).reshape((3, 3))"
   ]
  },
  {
   "cell_type": "code",
   "execution_count": 12,
   "id": "de1c9304-f975-4e62-ae10-5639eca009f9",
   "metadata": {},
   "outputs": [
    {
     "data": {
      "text/plain": [
       "array([[1, 2, 3]])"
      ]
     },
     "execution_count": 12,
     "metadata": {},
     "output_type": "execute_result"
    }
   ],
   "source": [
    "np.array([1, 2, 3])[np.newaxis, :] # .reshape((1, 3))"
   ]
  },
  {
   "cell_type": "code",
   "execution_count": 13,
   "id": "06940f7e-ea0b-4ea9-aab4-29153c2ed9d3",
   "metadata": {},
   "outputs": [
    {
     "data": {
      "text/plain": [
       "array([[1],\n",
       "       [2],\n",
       "       [3]])"
      ]
     },
     "execution_count": 13,
     "metadata": {},
     "output_type": "execute_result"
    }
   ],
   "source": [
    "np.array([1, 2, 3])[:, np.newaxis] # .reshape((3, 1))"
   ]
  },
  {
   "cell_type": "code",
   "execution_count": 14,
   "id": "2a8aa4e9-8825-4a4e-a1f1-2df5984ade0b",
   "metadata": {},
   "outputs": [
    {
     "name": "stdout",
     "output_type": "stream",
     "text": [
      "[ 1  2  3  3  2  1 99 99 99]\n"
     ]
    }
   ],
   "source": [
    "x = np.array([1, 2, 3])\n",
    "y = np.array([3, 2, 1])\n",
    "z = np.array([99, 99, 99])\n",
    "print(np.concatenate([x, y, z]))"
   ]
  },
  {
   "cell_type": "code",
   "execution_count": 15,
   "id": "2a8a3486-1c06-4b3b-8a58-ac372578eda3",
   "metadata": {},
   "outputs": [
    {
     "data": {
      "text/plain": [
       "array([[1, 2, 3, 1, 2, 3],\n",
       "       [4, 5, 6, 4, 5, 6]])"
      ]
     },
     "execution_count": 15,
     "metadata": {},
     "output_type": "execute_result"
    }
   ],
   "source": [
    "grid = np.array([[1, 2, 3],\n",
    "                 [4, 5, 6]])\n",
    "np.concatenate([grid, grid], axis=1) # concatenate along the second axis (zero-indexed)"
   ]
  },
  {
   "cell_type": "code",
   "execution_count": 16,
   "id": "e470f778-c9c9-489f-b52f-d2e36adf5410",
   "metadata": {},
   "outputs": [
    {
     "data": {
      "text/plain": [
       "array([[1, 2, 3],\n",
       "       [9, 8, 7],\n",
       "       [6, 5, 4]])"
      ]
     },
     "execution_count": 16,
     "metadata": {},
     "output_type": "execute_result"
    }
   ],
   "source": [
    "x = np.array([1, 2, 3])\n",
    "grid = np.array([[9, 8, 7],\n",
    "                 [6, 5, 4]])\n",
    "np.vstack([x, grid])"
   ]
  },
  {
   "cell_type": "code",
   "execution_count": 17,
   "id": "7810074e-2fcb-4965-b7ee-59efc5119a68",
   "metadata": {},
   "outputs": [
    {
     "data": {
      "text/plain": [
       "array([[ 9,  8,  7, 99],\n",
       "       [ 6,  5,  4, 99]])"
      ]
     },
     "execution_count": 17,
     "metadata": {},
     "output_type": "execute_result"
    }
   ],
   "source": [
    "y = np.array([[99],\n",
    "              [99]])\n",
    "np.hstack([grid, y])"
   ]
  },
  {
   "cell_type": "markdown",
   "id": "5d31c212-f804-4917-a9c9-6575dd09b215",
   "metadata": {},
   "source": [
    "### np.split, np.hsplit, and np.vsplit\n",
    "### np.dsplit will split arrays along the third axis"
   ]
  },
  {
   "cell_type": "code",
   "execution_count": 18,
   "id": "97944532-72a8-493d-975a-408d8412bed3",
   "metadata": {},
   "outputs": [
    {
     "name": "stdout",
     "output_type": "stream",
     "text": [
      "[1 2 3] [99 99] [3 2 1]\n"
     ]
    }
   ],
   "source": [
    "# N split-points, leads to N + 1 subarrays\n",
    "x = [1, 2, 3, 99, 99, 3, 2, 1]\n",
    "x1, x2, x3 = np.split(x, [3, 5])\n",
    "print(x1, x2, x3)"
   ]
  },
  {
   "cell_type": "code",
   "execution_count": 19,
   "id": "447608cf-1a6c-431d-8968-73373d03fc23",
   "metadata": {},
   "outputs": [
    {
     "name": "stdout",
     "output_type": "stream",
     "text": [
      "[[0 1 2 3]\n",
      " [4 5 6 7]]\n",
      "[[ 8  9 10 11]\n",
      " [12 13 14 15]]\n",
      "[[ 0  1]\n",
      " [ 4  5]\n",
      " [ 8  9]\n",
      " [12 13]]\n",
      "[[ 2  3]\n",
      " [ 6  7]\n",
      " [10 11]\n",
      " [14 15]]\n"
     ]
    }
   ],
   "source": [
    "grid = np.arange(16).reshape((4, 4))\n",
    "upper, lower = np.vsplit(grid, [2])\n",
    "print(upper)\n",
    "print(lower)\n",
    "left, right = np.hsplit(grid, [2])\n",
    "print(left)\n",
    "print(right)"
   ]
  }
 ],
 "metadata": {
  "kernelspec": {
   "display_name": "Python 3 (ipykernel)",
   "language": "python",
   "name": "python3"
  },
  "language_info": {
   "codemirror_mode": {
    "name": "ipython",
    "version": 3
   },
   "file_extension": ".py",
   "mimetype": "text/x-python",
   "name": "python",
   "nbconvert_exporter": "python",
   "pygments_lexer": "ipython3",
   "version": "3.13.5"
  }
 },
 "nbformat": 4,
 "nbformat_minor": 5
}
