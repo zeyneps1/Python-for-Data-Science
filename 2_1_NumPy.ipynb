{
 "cells": [
  {
   "cell_type": "markdown",
   "id": "c678e9c3-e148-4ed4-9efb-ae4f174f178c",
   "metadata": {},
   "source": [
    "# NumPy"
   ]
  },
  {
   "cell_type": "markdown",
   "id": "e41eb83e-8566-4efd-9502-e80269acb665",
   "metadata": {},
   "source": [
    "Effectively loading, storing, and manipulating in-memory data in Python.\n",
    "\n",
    "No matter what the data are, the first step in making it analyzable will be to transform them into **arrays of numbers**.\n",
    "\n",
    "NumPy (short for **Numerical Python**) provides an efficient interface to store and operate on dense data buffers. In some ways, NumPy arrays are like Python's built-in list type, but NumPy arrays provide much more efficient storage and data operations as the arrays grow larger in size. NumPy arrays form the core of nearly the entire ecosystem of data science tools in Python."
   ]
  },
  {
   "cell_type": "code",
   "execution_count": 1,
   "id": "5cfb4b9d-4b12-4e35-a301-a0d8c5197f4b",
   "metadata": {},
   "outputs": [],
   "source": [
    "import numpy as np"
   ]
  },
  {
   "cell_type": "markdown",
   "id": "a8b0aa20-eca6-4bac-be21-c17869b84aca",
   "metadata": {},
   "source": [
    "### A Python Integer Is More Than Just an Integer\n",
    "\n",
    "The standard Python implementation is written in C. This means that every Python object is simply a cleverly-disguised **C structure**, which contains not only its value, but other information as well.\n",
    "\n",
    "For example, when we define an integer in Python, such as x = 10000, x is not just a \"raw\" integer. It's actually **a pointer to a compound C structure**, which contains several values.\n",
    "\n",
    "Looking through the Python 3.4 source code, we find that the integer (long) type definition effectively looks like this:\n",
    "\n",
    "`struct _longobject {\n",
    "    long ob_refcnt;\n",
    "    PyTypeObject *ob_type;\n",
    "    size_t ob_size;\n",
    "    long ob_digit[1];\n",
    "};`\n",
    "\n",
    "- ob_refcnt, a reference count that helps Python silently handle memory allocation and deallocation\n",
    "- ob_type, which encodes the type of the variable\n",
    "- ob_size, which specifies the size of the following data members\n",
    "- ob_digit, which contains the actual integer value that we expect the Python variable to represent.\n",
    "\n",
    "This means that there is some overhead in storing an integer in Python as compared to an integer in a compiled language like C. **PyObject_HEAD** is the part of the structure containing the **reference count, type code, and other pieces**.\n",
    "\n",
    "Notice the difference here: a C integer is essentially a label for a position in memory whose bytes encode an integer value. A Python integer is a pointer to a position in memory containing all the Python object information, including the bytes that contain the integer value. This extra information in the Python integer structure is what allows Python to be coded so freely and dynamically.\n",
    "\n",
    "<img src=\"https://jakevdp.github.io/PythonDataScienceHandbook/figures/cint_vs_pyint.png\" width=\"200px\">"
   ]
  },
  {
   "cell_type": "markdown",
   "id": "d4f7202a-ed04-410a-ac76-74581082c688",
   "metadata": {},
   "source": [
    "### A Python List Is More Than Just a List\n",
    "\n",
    "`L3 = [True, \"2\", 3.0, 4]`\n",
    "`[type(item) for item in L3]`\n",
    "`[bool, str, float, int]`\n",
    "\n",
    "To allow these flexible types, each item in the list must contain its own type info, reference count, and other information–that is, each item is a complete Python object. In the special case that all variables are of the same type, much of this information is redundant: it can be much more efficient to store data in a **fixed-type array**. At the implementation level, the array essentially contains a single pointer to one contiguous block of data. The Python list, on the other hand, contains a pointer to a block of pointers, each of which in turn points to a full Python object like the Python integer we saw earlier. Again, the advantage of the list is flexibility: because each list element is a full structure containing both data and type information, the list can be filled with data of any desired type. Fixed-type NumPy-style arrays lack this flexibility, but are much more efficient for storing and manipulating data.\n",
    "\n",
    "<img src=\"https://jakevdp.github.io/PythonDataScienceHandbook/figures/array_vs_list.png\" width=\"300px\">\n"
   ]
  },
  {
   "cell_type": "markdown",
   "id": "113c1410-4b3c-4876-8264-3997ca7506e6",
   "metadata": {},
   "source": [
    "### Fixed-Type Arrays in Python"
   ]
  },
  {
   "cell_type": "code",
   "execution_count": 2,
   "id": "2a861845-7b1b-4489-8774-4b7ec734b8e1",
   "metadata": {},
   "outputs": [
    {
     "data": {
      "text/plain": [
       "array('i', [0, 1, 2, 3, 4, 5, 6, 7, 8, 9])"
      ]
     },
     "execution_count": 2,
     "metadata": {},
     "output_type": "execute_result"
    }
   ],
   "source": [
    "import array\n",
    "L = list(range(10))\n",
    "A = array.array('i', L) # i is a type code indicating the contents are integers.\n",
    "A"
   ]
  },
  {
   "cell_type": "code",
   "execution_count": 3,
   "id": "d2cad4f0-df16-41a7-b906-95cc48378df5",
   "metadata": {},
   "outputs": [
    {
     "data": {
      "text/plain": [
       "array([3.14, 4.  , 2.  , 3.  ])"
      ]
     },
     "execution_count": 3,
     "metadata": {},
     "output_type": "execute_result"
    }
   ],
   "source": [
    "# Unlike Python lists, NumPy is constrained to arrays that all contain the same type.\n",
    "# If types do not match, NumPy will upcast if possible\n",
    "\n",
    "np.array([3.14, 4, 2, 3])"
   ]
  },
  {
   "cell_type": "code",
   "execution_count": 4,
   "id": "2f7a69ec-57bb-4c85-8071-be3eab018451",
   "metadata": {},
   "outputs": [
    {
     "data": {
      "text/plain": [
       "array([1., 2., 3., 4.], dtype=float32)"
      ]
     },
     "execution_count": 4,
     "metadata": {},
     "output_type": "execute_result"
    }
   ],
   "source": [
    "np.array([1, 2, 3, 4], dtype='float32')"
   ]
  },
  {
   "cell_type": "code",
   "execution_count": 5,
   "id": "36bd2e5a-6576-4807-a5bb-72368c22aab0",
   "metadata": {},
   "outputs": [
    {
     "data": {
      "text/plain": [
       "array([[2, 3, 4],\n",
       "       [4, 5, 6],\n",
       "       [6, 7, 8]])"
      ]
     },
     "execution_count": 5,
     "metadata": {},
     "output_type": "execute_result"
    }
   ],
   "source": [
    "np.array([range(i, i + 3) for i in [2, 4, 6]]) # multi-dimensional array"
   ]
  },
  {
   "cell_type": "code",
   "execution_count": 6,
   "id": "fde746b5-48ae-44bf-b634-10329623ff73",
   "metadata": {},
   "outputs": [
    {
     "data": {
      "text/plain": [
       "array([ 0,  2,  4,  6,  8, 10, 12, 14, 16, 18])"
      ]
     },
     "execution_count": 6,
     "metadata": {},
     "output_type": "execute_result"
    }
   ],
   "source": [
    "np.zeros(10, dtype=int)\n",
    "np.ones((2, 4), dtype=float)\n",
    "np.full((3, 6), 3.14)\n",
    "np.arange(0, 20, 2) # Starting at 0, ending at 20, stepping by 2"
   ]
  },
  {
   "cell_type": "code",
   "execution_count": 7,
   "id": "3f2b958d-29ac-41d1-9b83-3490a820b261",
   "metadata": {},
   "outputs": [
    {
     "data": {
      "text/plain": [
       "array([0.  , 0.25, 0.5 , 0.75, 1.  ])"
      ]
     },
     "execution_count": 7,
     "metadata": {},
     "output_type": "execute_result"
    }
   ],
   "source": [
    "np.linspace(0, 1, 5) # arr of five values evenly spaced between 0 and 1"
   ]
  },
  {
   "cell_type": "code",
   "execution_count": 8,
   "id": "f58d6712-7372-41bb-b69b-39bdbea079ce",
   "metadata": {},
   "outputs": [
    {
     "data": {
      "text/plain": [
       "array([[0.14981652, 0.50465865, 0.566204  ],\n",
       "       [0.95979486, 0.27036794, 0.3413827 ],\n",
       "       [0.67091205, 0.61075326, 0.88813083]])"
      ]
     },
     "execution_count": 8,
     "metadata": {},
     "output_type": "execute_result"
    }
   ],
   "source": [
    "np.random.random((3, 3)) # uniformly distributed random values between 0 and 1"
   ]
  },
  {
   "cell_type": "code",
   "execution_count": 9,
   "id": "37c11913-a2d0-46a2-883c-18867b03f3ea",
   "metadata": {},
   "outputs": [
    {
     "data": {
      "text/plain": [
       "array([[ 0.33353743, -0.32719704,  0.15195758],\n",
       "       [-0.67470392,  0.69817957,  0.72085909],\n",
       "       [-1.27008285,  1.08091716,  0.65519897]])"
      ]
     },
     "execution_count": 9,
     "metadata": {},
     "output_type": "execute_result"
    }
   ],
   "source": [
    "np.random.normal(0, 1, (3, 3)) # normally distributed random values\n",
    "# with mean 0 and standard deviation 1"
   ]
  },
  {
   "cell_type": "code",
   "execution_count": 10,
   "id": "e1dc1599-e332-4063-b81b-40e5b45083ec",
   "metadata": {},
   "outputs": [
    {
     "data": {
      "text/plain": [
       "array([[9, 3, 6],\n",
       "       [6, 9, 8],\n",
       "       [6, 2, 3]])"
      ]
     },
     "execution_count": 10,
     "metadata": {},
     "output_type": "execute_result"
    }
   ],
   "source": [
    "np.random.randint(0, 10, (3, 3)) # random integers in [0, 10]"
   ]
  },
  {
   "cell_type": "code",
   "execution_count": 11,
   "id": "739ec70e-4dd9-4565-8f07-539fd1d30722",
   "metadata": {},
   "outputs": [
    {
     "data": {
      "text/plain": [
       "array([[1., 0., 0.],\n",
       "       [0., 1., 0.],\n",
       "       [0., 0., 1.]])"
      ]
     },
     "execution_count": 11,
     "metadata": {},
     "output_type": "execute_result"
    }
   ],
   "source": [
    "np.eye(3) # 3x3 identity matrix"
   ]
  },
  {
   "cell_type": "code",
   "execution_count": 12,
   "id": "16fe8118-3953-49b2-9780-c436c3543460",
   "metadata": {},
   "outputs": [
    {
     "data": {
      "text/plain": [
       "array([1., 1., 1.])"
      ]
     },
     "execution_count": 12,
     "metadata": {},
     "output_type": "execute_result"
    }
   ],
   "source": [
    "np.empty(3) # Uninitialized array of three integers\n",
    "# The values will be whatever happens to already exist at that memory location"
   ]
  },
  {
   "cell_type": "markdown",
   "id": "0c906319-4d2b-45fe-9847-ac16fbead41e",
   "metadata": {},
   "source": [
    "### NumPy Data Types\n",
    "\n",
    "- **bool_**\t\t\tBoolean (True or False) stored as a byte\n",
    "- **int_**\t\t\tDefault integer type (same as C long; normally either int64 or int32)\n",
    "- **intc**\t\t\tIdentical to C int (normally int32 or int64)\n",
    "- **intp**\t\t\tInteger used for indexing (same as C ssize_t; normally either int32 or int64)\n",
    "- **int8**\t\t\tByte (-128 to 127)\n",
    "- **int16**\t\t\tInteger (-32768 to 32767)\n",
    "- **int32**\t\t\tInteger (-2147483648 to 2147483647)\n",
    "- **int64**\t\t\tInteger (-9223372036854775808 to 9223372036854775807)\n",
    "- **uint8**\t\t\tUnsigned integer (0 to 255)\n",
    "- **uint16**\t\tUnsigned integer (0 to 65535)\n",
    "- **uint32**\t\tUnsigned integer (0 to 4294967295)\n",
    "- **uint64**\t\tUnsigned integer (0 to 18446744073709551615)\n",
    "- **float_**\t\tShorthand for float64.\n",
    "- **float16**\t\tHalf precision float: sign bit, 5 bits exponent, 10 bits mantissa\n",
    "- **float32**\t\tSingle precision float: sign bit, 8 bits exponent, 23 bits mantissa\n",
    "- **float64**\t\tDouble precision float: sign bit, 11 bits exponent, 52 bits mantissa\n",
    "- **complex_**\t\tShorthand for complex128.\n",
    "- **complex64**\t\tComplex number, represented by two 32-bit floats\n",
    "- **complex128**\tComplex number, represented by two 64-bit floats\n"
   ]
  }
 ],
 "metadata": {
  "kernelspec": {
   "display_name": "Python 3 (ipykernel)",
   "language": "python",
   "name": "python3"
  },
  "language_info": {
   "codemirror_mode": {
    "name": "ipython",
    "version": 3
   },
   "file_extension": ".py",
   "mimetype": "text/x-python",
   "name": "python",
   "nbconvert_exporter": "python",
   "pygments_lexer": "ipython3",
   "version": "3.13.5"
  }
 },
 "nbformat": 4,
 "nbformat_minor": 5
}
